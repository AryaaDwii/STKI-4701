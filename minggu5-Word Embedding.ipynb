from sklearn.feature_extraction.text import CountVectorizer
import pandas as pd

doc1 = "He is a lazy boy. She is also lazy."
doc2 = "Neeraj is a lazy person."

bow_vectorizer = CountVectorizer()

X = bow_vectorizer.fit_transform([doc1,doc2])

bow_df = pd.DataFrame(X.toarray(),columns=bow_vectorizer.get_feature_names_out())
bow_df.head()
